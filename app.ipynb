{
 "cells": [
  {
   "cell_type": "code",
   "execution_count": 1,
   "id": "932df69d",
   "metadata": {},
   "outputs": [],
   "source": [
    "import joblib\n",
    "from flask import Flask, render_template, request\n",
    "import psycopg2\n",
    "# create a Flask instance\n",
    "app = Flask(__name__)"
   ]
  },
  {
   "cell_type": "code",
   "execution_count": 2,
   "id": "e176e7a9",
   "metadata": {},
   "outputs": [],
   "source": [
    "# Load the trained machine learning model\n",
    "model = joblib.load('model.pkl')"
   ]
  },
  {
   "cell_type": "code",
   "execution_count": null,
   "id": "39948d40",
   "metadata": {},
   "outputs": [
    {
     "name": "stdout",
     "output_type": "stream",
     "text": [
      " * Serving Flask app '__main__' (lazy loading)\n",
      " * Environment: production\n",
      "\u001b[31m   WARNING: This is a development server. Do not use it in a production deployment.\u001b[0m\n",
      "\u001b[2m   Use a production WSGI server instead.\u001b[0m\n",
      " * Debug mode: off\n"
     ]
    },
    {
     "name": "stderr",
     "output_type": "stream",
     "text": [
      " * Running on http://127.0.0.1:5000/ (Press CTRL+C to quit)\n",
      "[2023-03-05 00:53:53,568] ERROR in app: Exception on / [GET]\n",
      "Traceback (most recent call last):\n",
      "  File \"C:\\Users\\gasco\\anaconda3\\envs\\PythonData\\lib\\site-packages\\flask\\app.py\", line 2073, in wsgi_app\n",
      "    response = self.full_dispatch_request()\n",
      "  File \"C:\\Users\\gasco\\anaconda3\\envs\\PythonData\\lib\\site-packages\\flask\\app.py\", line 1519, in full_dispatch_request\n",
      "    rv = self.handle_user_exception(e)\n",
      "  File \"C:\\Users\\gasco\\anaconda3\\envs\\PythonData\\lib\\site-packages\\flask\\app.py\", line 1517, in full_dispatch_request\n",
      "    rv = self.dispatch_request()\n",
      "  File \"C:\\Users\\gasco\\anaconda3\\envs\\PythonData\\lib\\site-packages\\flask\\app.py\", line 1503, in dispatch_request\n",
      "    return self.ensure_sync(self.view_functions[rule.endpoint])(**req.view_args)\n",
      "  File \"C:\\Users\\gasco\\AppData\\Local\\Temp\\ipykernel_16360\\1849266281.py\", line 3, in index\n",
      "    return render_template('index.html')\n",
      "  File \"C:\\Users\\gasco\\anaconda3\\envs\\PythonData\\lib\\site-packages\\flask\\templating.py\", line 155, in render_template\n",
      "    ctx.app.jinja_env.get_or_select_template(template_name_or_list),\n",
      "  File \"C:\\Users\\gasco\\anaconda3\\envs\\PythonData\\lib\\site-packages\\jinja2\\environment.py\", line 1068, in get_or_select_template\n",
      "    return self.get_template(template_name_or_list, parent, globals)\n",
      "  File \"C:\\Users\\gasco\\anaconda3\\envs\\PythonData\\lib\\site-packages\\jinja2\\environment.py\", line 997, in get_template\n",
      "    return self._load_template(name, globals)\n",
      "  File \"C:\\Users\\gasco\\anaconda3\\envs\\PythonData\\lib\\site-packages\\jinja2\\environment.py\", line 958, in _load_template\n",
      "    template = self.loader.load(self, name, self.make_globals(globals))\n",
      "  File \"C:\\Users\\gasco\\anaconda3\\envs\\PythonData\\lib\\site-packages\\jinja2\\loaders.py\", line 125, in load\n",
      "    source, filename, uptodate = self.get_source(environment, name)\n",
      "  File \"C:\\Users\\gasco\\anaconda3\\envs\\PythonData\\lib\\site-packages\\flask\\templating.py\", line 59, in get_source\n",
      "    return self._get_source_fast(environment, template)\n",
      "  File \"C:\\Users\\gasco\\anaconda3\\envs\\PythonData\\lib\\site-packages\\flask\\templating.py\", line 95, in _get_source_fast\n",
      "    raise TemplateNotFound(template)\n",
      "jinja2.exceptions.TemplateNotFound: index.html\n",
      "127.0.0.1 - - [05/Mar/2023 00:53:53] \"GET / HTTP/1.1\" 500 -\n",
      "127.0.0.1 - - [05/Mar/2023 00:53:54] \"GET /favicon.ico HTTP/1.1\" 404 -\n",
      "[2023-03-05 00:54:01,232] ERROR in app: Exception on / [GET]\n",
      "Traceback (most recent call last):\n",
      "  File \"C:\\Users\\gasco\\anaconda3\\envs\\PythonData\\lib\\site-packages\\flask\\app.py\", line 2073, in wsgi_app\n",
      "    response = self.full_dispatch_request()\n",
      "  File \"C:\\Users\\gasco\\anaconda3\\envs\\PythonData\\lib\\site-packages\\flask\\app.py\", line 1519, in full_dispatch_request\n",
      "    rv = self.handle_user_exception(e)\n",
      "  File \"C:\\Users\\gasco\\anaconda3\\envs\\PythonData\\lib\\site-packages\\flask\\app.py\", line 1517, in full_dispatch_request\n",
      "    rv = self.dispatch_request()\n",
      "  File \"C:\\Users\\gasco\\anaconda3\\envs\\PythonData\\lib\\site-packages\\flask\\app.py\", line 1503, in dispatch_request\n",
      "    return self.ensure_sync(self.view_functions[rule.endpoint])(**req.view_args)\n",
      "  File \"C:\\Users\\gasco\\AppData\\Local\\Temp\\ipykernel_16360\\1849266281.py\", line 3, in index\n",
      "    return render_template('index.html')\n",
      "  File \"C:\\Users\\gasco\\anaconda3\\envs\\PythonData\\lib\\site-packages\\flask\\templating.py\", line 155, in render_template\n",
      "    ctx.app.jinja_env.get_or_select_template(template_name_or_list),\n",
      "  File \"C:\\Users\\gasco\\anaconda3\\envs\\PythonData\\lib\\site-packages\\jinja2\\environment.py\", line 1068, in get_or_select_template\n",
      "    return self.get_template(template_name_or_list, parent, globals)\n",
      "  File \"C:\\Users\\gasco\\anaconda3\\envs\\PythonData\\lib\\site-packages\\jinja2\\environment.py\", line 997, in get_template\n",
      "    return self._load_template(name, globals)\n",
      "  File \"C:\\Users\\gasco\\anaconda3\\envs\\PythonData\\lib\\site-packages\\jinja2\\environment.py\", line 958, in _load_template\n",
      "    template = self.loader.load(self, name, self.make_globals(globals))\n",
      "  File \"C:\\Users\\gasco\\anaconda3\\envs\\PythonData\\lib\\site-packages\\jinja2\\loaders.py\", line 125, in load\n",
      "    source, filename, uptodate = self.get_source(environment, name)\n",
      "  File \"C:\\Users\\gasco\\anaconda3\\envs\\PythonData\\lib\\site-packages\\flask\\templating.py\", line 59, in get_source\n",
      "    return self._get_source_fast(environment, template)\n",
      "  File \"C:\\Users\\gasco\\anaconda3\\envs\\PythonData\\lib\\site-packages\\flask\\templating.py\", line 95, in _get_source_fast\n",
      "    raise TemplateNotFound(template)\n",
      "jinja2.exceptions.TemplateNotFound: index.html\n",
      "127.0.0.1 - - [05/Mar/2023 00:54:01] \"GET / HTTP/1.1\" 500 -\n"
     ]
    }
   ],
   "source": [
    "# define a route for the home page\n",
    "@app.route('/')\n",
    "def index():\n",
    "    # render the index.html template\n",
    "    return render_template('index.html')\n",
    "\n",
    "# define a route to handle form submission\n",
    "@app.route('/predict', methods=['POST'])\n",
    "def predict():\n",
    "    # process the form data\n",
    "    loan_amount = request.form['loan_amount']\n",
    "    loan_term = request.form['loan_term']\n",
    "    credit_score = request.form['credit_score']\n",
    "    income = request.form['income']\n",
    "    home_ownership = request.form['home_ownership']\n",
    "    purpose = request.form['purpose']\n",
    "\n",
    "    # do something with the form data to predict the mortgage interest rate\n",
    "\n",
    "    # render the result.html template with the predicted interest rate\n",
    "    return render_template('result.html', interest_rate=predicted_interest_rate)\n",
    "\n",
    "if __name__ == '__main__':\n",
    "    # run the Flask app\n",
    "    app.run()\n"
   ]
  }
 ],
 "metadata": {
  "kernelspec": {
   "display_name": "mlenv",
   "language": "python",
   "name": "mlenv"
  },
  "language_info": {
   "codemirror_mode": {
    "name": "ipython",
    "version": 3
   },
   "file_extension": ".py",
   "mimetype": "text/x-python",
   "name": "python",
   "nbconvert_exporter": "python",
   "pygments_lexer": "ipython3",
   "version": "3.7.13"
  }
 },
 "nbformat": 4,
 "nbformat_minor": 5
}
